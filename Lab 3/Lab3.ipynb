{
  "nbformat": 4,
  "nbformat_minor": 0,
  "metadata": {
    "colab": {
      "provenance": []
    },
    "kernelspec": {
      "name": "python3",
      "display_name": "Python 3"
    },
    "language_info": {
      "name": "python"
    }
  },
  "cells": [
    {
      "cell_type": "markdown",
      "source": [
        "# Autoencoders - Approach 1"
      ],
      "metadata": {
        "id": "zdqjWPCaEkBY"
      }
    },
    {
      "cell_type": "code",
      "execution_count": null,
      "metadata": {
        "id": "LH1ogJ2pfop8"
      },
      "outputs": [],
      "source": [
        "from keras.layers import Dense,Conv2D,MaxPooling2D,UpSampling2D\n",
        "from keras import Input, Model\n",
        "from keras.datasets import mnist\n",
        "import numpy as np\n",
        "import matplotlib.pyplot as plt"
      ]
    },
    {
      "cell_type": "markdown",
      "source": [
        "These are the necessary imports for creating and training the autoencoder. It imports the required Keras layers and modules, as well as other libraries such as NumPy and Matplotlib."
      ],
      "metadata": {
        "id": "oerAytc-BFUD"
      }
    },
    {
      "cell_type": "code",
      "source": [
        "encoding_dim = 15\n",
        "input_img = Input(shape=(784,))\n",
        "# encoded representation of input\n",
        "encoded = Dense(encoding_dim, activation='relu')(input_img)\n",
        "# decoded representation of code\n",
        "decoded = Dense(784, activation='sigmoid')(encoded)\n",
        "# Model which take input image and shows decoded images\n",
        "autoencoder = Model(input_img, decoded)"
      ],
      "metadata": {
        "id": "k9vcNY6Rh2uT"
      },
      "execution_count": null,
      "outputs": []
    },
    {
      "cell_type": "markdown",
      "source": [
        "`encoding_dim` is the number of dimensions of the encoded representation (i.e., the size of the hidden layer). In this case, it is set to 15.\n",
        "The next line defines the input layer for the autoencoder. The `Input` class from Keras is used to specify the shape of the input data. In this case, the input data is a flattened image of size 784 (28x28), representing the MNIST images.\n",
        "\n",
        "The next line creates the encoder part of the autoencoder. The Dense layer is a fully connected layer with `encoding_dim` neurons and ReLU activation function. It takes the input data (`input_img`) and produces the encoded representation (`encoded`).\n",
        "\n",
        "The next line creates the decoder part of the autoencoder. Another `Dense` layer is used with 784 neurons (the same size as the input data) and a `sigmoid` activation function. The decoder takes the encoded representation (`encoded`) and reconstructs the original input data (`decoded`).\n",
        "\n",
        "The last line creates the full autoencoder model by specifying the input and output layers. The `Model` class from Keras is used to define the `autoencoder`."
      ],
      "metadata": {
        "id": "h3VOABvDBXtp"
      }
    },
    {
      "cell_type": "code",
      "source": [
        "# This model shows encoded images\n",
        "encoder = Model(input_img, encoded)\n",
        "# Creating a decoder model\n",
        "encoded_input = Input(shape=(encoding_dim,))\n",
        "# last layer of the autoencoder model\n",
        "decoder_layer = autoencoder.layers[-1]\n",
        "# decoder model\n",
        "decoder = Model(encoded_input, decoder_layer(encoded_input))"
      ],
      "metadata": {
        "id": "AHPUwWVoh-sW"
      },
      "execution_count": null,
      "outputs": []
    },
    {
      "cell_type": "markdown",
      "source": [
        "##### 1) This line creates the encoder model separately by using the same input layer but stopping at the encoded layer. The encoder model will be used later to extract the encoded representation from the input data.\n",
        "##### 2) This line defines a new input layer for the decoder model. This input will be used to provide the encoded representation to the decoder.\n",
        "##### 3) This line extracts the last layer of the autoencoder, which is the decoder layer.\n",
        "##### 4) This line creates the decoder model separately using the encoded_input as input and connecting it to the decoder layer."
      ],
      "metadata": {
        "id": "NxaKFt2mCuM-"
      }
    },
    {
      "cell_type": "code",
      "source": [
        "autoencoder.compile(optimizer='adam', loss='binary_crossentropy')"
      ],
      "metadata": {
        "id": "m_pJ5q3ZiDa3"
      },
      "execution_count": null,
      "outputs": []
    },
    {
      "cell_type": "markdown",
      "source": [
        "This line compiles the autoencoder model. We use the Adam optimizer and the binary cross-entropy loss function, which is suitable for binary image data."
      ],
      "metadata": {
        "id": "ELlvNGn6DlUg"
      }
    },
    {
      "cell_type": "code",
      "source": [
        "(x_train, y_train), (x_test, y_test) = mnist.load_data()\n",
        "x_train = x_train.astype('float32') / 255.\n",
        "x_test = x_test.astype('float32') / 255.\n",
        "x_train = x_train.reshape((len(x_train), np.prod( )))\n",
        "x_test = x_test.reshape((len(x_test), np.prod(x_test.shape[1:])))\n",
        "print(x_train.shape)\n",
        "print(x_test.shape)"
      ],
      "metadata": {
        "colab": {
          "base_uri": "https://localhost:8080/"
        },
        "id": "CBDQxkPUiING",
        "outputId": "7849fb36-1e40-47fe-cd63-4b4ede7ae1dd"
      },
      "execution_count": null,
      "outputs": [
        {
          "output_type": "stream",
          "name": "stdout",
          "text": [
            "Downloading data from https://storage.googleapis.com/tensorflow/tf-keras-datasets/mnist.npz\n",
            "11490434/11490434 [==============================] - 0s 0us/step\n",
            "(60000, 784)\n",
            "(10000, 784)\n"
          ]
        }
      ]
    },
    {
      "cell_type": "markdown",
      "source": [
        "##### 1) The first line loads the MNIST dataset, which consists of 28x28 grayscale images of handwritten digits (0 to 9). The dataset is divided into training (x_train) and testing (x_test) sets.\n",
        "##### 2) The next two lines normalize the pixel values of the images to the range [0, 1]. This is a common preprocessing step for neural network input data.\n",
        "##### 3) The MNIST images are originally 28x28 pixels, but to use them as input to the autoencoder, we need to flatten each image into a 1D vector of size 784 (28 * 28 = 784). The reshape method is used to transform the data accordingly.\n"
      ],
      "metadata": {
        "id": "ZGWi7Dj5DtzS"
      }
    },
    {
      "cell_type": "code",
      "source": [
        "plt.imshow(x_train[0].reshape(28,28))"
      ],
      "metadata": {
        "colab": {
          "base_uri": "https://localhost:8080/",
          "height": 447
        },
        "id": "yFCLtaqViLCk",
        "outputId": "9de44ff3-af8d-4bc2-c7fd-834349be99af"
      },
      "execution_count": null,
      "outputs": [
        {
          "output_type": "execute_result",
          "data": {
            "text/plain": [
              "<matplotlib.image.AxesImage at 0x7c8671e1cb20>"
            ]
          },
          "metadata": {},
          "execution_count": 11
        },
        {
          "output_type": "display_data",
          "data": {
            "text/plain": [
              "<Figure size 640x480 with 1 Axes>"
            ],
            "image/png": "[encoded data removed]"
          },
          "metadata": {}
        }
      ]
    },
    {
      "cell_type": "code",
      "source": [
        "autoencoder.fit(x_train, x_train,\n",
        "                epochs=15,\n",
        "                batch_size=256,\n",
        "                validation_data=(x_test, x_test))"
      ],
      "metadata": {
        "colab": {
          "base_uri": "https://localhost:8080/"
        },
        "id": "-hx3VGKaiPLR",
        "outputId": "d3eb46b3-4add-4d1e-f57a-8aa475e29cd9"
      },
      "execution_count": null,
      "outputs": [
        {
          "output_type": "stream",
          "name": "stdout",
          "text": [
            "Epoch 1/15\n",
            "235/235 [==============================] - 5s 15ms/step - loss: 0.3052 - val_loss: 0.2210\n",
            "Epoch 2/15\n",
            "235/235 [==============================] - 3s 12ms/step - loss: 0.2017 - val_loss: 0.1841\n",
            "Epoch 3/15\n",
            "235/235 [==============================] - 3s 11ms/step - loss: 0.1745 - val_loss: 0.1638\n",
            "Epoch 4/15\n",
            "235/235 [==============================] - 3s 13ms/step - loss: 0.1593 - val_loss: 0.1532\n",
            "Epoch 5/15\n",
            "235/235 [==============================] - 2s 11ms/step - loss: 0.1515 - val_loss: 0.1475\n",
            "Epoch 6/15\n",
            "235/235 [==============================] - 4s 16ms/step - loss: 0.1472 - val_loss: 0.1443\n",
            "Epoch 7/15\n",
            "235/235 [==============================] - 4s 18ms/step - loss: 0.1444 - val_loss: 0.1419\n",
            "Epoch 8/15\n",
            "235/235 [==============================] - 3s 12ms/step - loss: 0.1424 - val_loss: 0.1400\n",
            "Epoch 9/15\n",
            "235/235 [==============================] - 3s 13ms/step - loss: 0.1406 - val_loss: 0.1384\n",
            "Epoch 10/15\n",
            "235/235 [==============================] - 3s 12ms/step - loss: 0.1391 - val_loss: 0.1370\n",
            "Epoch 11/15\n",
            "235/235 [==============================] - 2s 10ms/step - loss: 0.1378 - val_loss: 0.1358\n",
            "Epoch 12/15\n",
            "235/235 [==============================] - 3s 11ms/step - loss: 0.1367 - val_loss: 0.1347\n",
            "Epoch 13/15\n",
            "235/235 [==============================] - 2s 10ms/step - loss: 0.1358 - val_loss: 0.1338\n",
            "Epoch 14/15\n",
            "235/235 [==============================] - 3s 13ms/step - loss: 0.1351 - val_loss: 0.1332\n",
            "Epoch 15/15\n",
            "235/235 [==============================] - 3s 11ms/step - loss: 0.1346 - val_loss: 0.1327\n"
          ]
        },
        {
          "output_type": "execute_result",
          "data": {
            "text/plain": [
              "<keras.callbacks.History at 0x7c866fd4d720>"
            ]
          },
          "metadata": {},
          "execution_count": 12
        }
      ]
    },
    {
      "cell_type": "markdown",
      "source": [
        "This line trains the autoencoder using the training data (x_train) as both input and target. The model is trained for 15 epochs (complete passes through the training data), with a batch size of 256. We also use the validation data (x_test) to monitor the model's performance during training."
      ],
      "metadata": {
        "id": "59QoskuJEHm7"
      }
    },
    {
      "cell_type": "code",
      "source": [
        "encoded_img = encoder.predict(x_test)\n",
        "decoded_img = decoder.predict(encoded_img)"
      ],
      "metadata": {
        "id": "FvOZNFPgESaB"
      },
      "execution_count": null,
      "outputs": []
    },
    {
      "cell_type": "markdown",
      "source": [
        "These lines use the trained encoder and decoder models to obtain the encoded representation (`encoded_img`) of the test data and then decode it to obtain the reconstructed images (`decoded_img`)."
      ],
      "metadata": {
        "id": "or75g8L1ETEf"
      }
    },
    {
      "cell_type": "code",
      "source": [
        "\n",
        "plt.figure(figsize=(20, 4))\n",
        "for i in range(5):\n",
        "    # Display original\n",
        "    ax = plt.subplot(2, 5, i + 1)\n",
        "    plt.imshow(x_test[i].reshape(28, 28))\n",
        "    plt.gray()\n",
        "    ax.get_xaxis().set_visible(False)\n",
        "    ax.get_yaxis().set_visible(False)\n",
        "    # Display reconstruction\n",
        "    ax = plt.subplot(2, 5, i + 1 + 5)\n",
        "    plt.imshow(decoded_img[i].reshape(28, 28))\n",
        "    plt.gray()\n",
        "    ax.get_xaxis().set_visible(False)\n",
        "    ax.get_yaxis().set_visible(False)\n",
        "plt.show()"
      ],
      "metadata": {
        "colab": {
          "base_uri": "https://localhost:8080/",
          "height": 306
        },
        "id": "_2OO-ZEoiTT4",
        "outputId": "085a261a-4c2e-466b-fbb8-0c336d0aa452"
      },
      "execution_count": null,
      "outputs": [
        {
          "output_type": "stream",
          "name": "stdout",
          "text": [
            "313/313 [==============================] - 0s 1ms/step\n",
            "313/313 [==============================] - 0s 1ms/step\n"
          ]
        },
        {
          "output_type": "display_data",
          "data": {
            "text/plain": [
              "<Figure size 2000x400 with 10 Axes>"
            ],
            "image/png": "[encoded data removed]"
          },
          "metadata": {}
        }
      ]
    },
    {
      "cell_type": "markdown",
      "source": [
        "These lines visualize the first 5 original and reconstructed images side by side for visual comparison. The original images are displayed on the top row, and the reconstructed images are displayed on the bottom row."
      ],
      "metadata": {
        "id": "uj3I983REblf"
      }
    },
    {
      "cell_type": "markdown",
      "source": [
        "# Different approach"
      ],
      "metadata": {
        "id": "_Gy0DmyoEeB_"
      }
    },
    {
      "cell_type": "code",
      "source": [
        "from keras.layers import Input, Dense\n",
        "from keras.models import Model\n",
        "from keras.datasets import mnist\n",
        "\n",
        "# Load MNIST dataset\n",
        "(x_train, _), (x_test, _) = mnist.load_data()\n",
        "# These lines import the necessary modules from Keras and load the MNIST dataset.\n",
        "# The MNIST dataset contains grayscale images of handwritten digits from 0 to 9.\n",
        "\n",
        "\n",
        "# Normalize the pixel values to [0, 1]\n",
        "# This step normalizes the pixel values of the images to the range [0, 1].\n",
        "# This is a common preprocessing step for neural network input data,\n",
        "# and it helps in faster convergence during training.\n",
        "x_train = x_train.astype('float32') / 255.\n",
        "x_test = x_test.astype('float32') / 255.\n",
        "\n",
        "# Flatten the images to 784-dimensional vectors\n",
        "# The MNIST images are originally 28x28 pixels, but to use them as input to the\n",
        "# autoencoder, we need to flatten each image into a 1D vector of size\n",
        "# 784 (28 * 28 = 784). The reshape method is used to transform the data\n",
        "# accordingly.\n",
        "x_train = x_train.reshape((len(x_train), 784))\n",
        "x_test = x_test.reshape((len(x_test), 784))\n",
        "\n",
        "# Define the encoder architecture\n",
        "# These lines define the encoder part of the autoencoder. The encoder consists\n",
        "# of three fully connected (Dense) layers. The first layer has 128 neurons,\n",
        "# the second layer has 64 neurons, and the third layer has 32 neurons.\n",
        "# Each layer uses the ReLU activation function.\n",
        "input_img = Input(shape=(784,))\n",
        "encoded = Dense(128, activation='relu')(input_img)\n",
        "encoded = Dense(64, activation='relu')(encoded)\n",
        "encoded = Dense(32, activation='relu')(encoded)\n",
        "\n",
        "# Define the decoder architecture\n",
        "# These lines define the decoder part of the autoencoder.\n",
        "# The decoder also consists of three fully connected (Dense) layers.\n",
        "# The first layer has 64 neurons, the second layer has 128 neurons,\n",
        "# and the third layer has 784 neurons (the same size as the input data).\n",
        "# The first two layers use the ReLU activation function, while the last\n",
        "# layer uses the sigmoid activation function. The sigmoid activation function\n",
        "# is used because we want the output of the autoencoder to be in the range\n",
        "# [0, 1], which corresponds to the pixel values of the grayscale images.\n",
        "decoded = Dense(64, activation='relu')(encoded)\n",
        "decoded = Dense(128, activation='relu')(decoded)\n",
        "decoded = Dense(784, activation='sigmoid')(decoded)\n",
        "\n",
        "# Create the autoencoder model\n",
        "# This line creates the full autoencoder model by specifying the input and\n",
        "# output layers. The Model class from Keras is used to define the autoencoder.\n",
        "autoencoder = Model(input_img, decoded)\n",
        "\n",
        "# Compile the autoencoder\n",
        "# This line compiles the autoencoder model. We use the Adam optimizer and\n",
        "# the binary cross-entropy loss function, which is suitable for binary image\n",
        "# data. The binary cross-entropy loss function is commonly used for image\n",
        "# reconstruction tasks.\n",
        "autoencoder.compile(optimizer='adam', loss='binary_crossentropy')\n",
        "\n",
        "# Train the autoencoder\n",
        "# This line trains the autoencoder using the training data (x_train) as both\n",
        "# input and target. The model is trained for 15 epochs (complete passes\n",
        "# through the training data), with a batch size of 256. We also use the\n",
        "# validation data (x_test) to monitor the model's performance during training.\n",
        "autoencoder.fit(x_train, x_train, epochs=15, batch_size=256, validation_data=(x_test, x_test))\n",
        "\n",
        "# Generate the reconstructed images\n",
        "# This line uses the trained autoencoder to reconstruct the test data (x_test).\n",
        "# The reconstructed images are stored in the reconstructed_imgs variable.\n",
        "reconstructed_imgs = autoencoder.predict(x_test)\n",
        "\n",
        "# Visualize the original and reconstructed images\n",
        "# These lines visualize the first 5 original and reconstructed images side by\n",
        "# side for visual comparison. The original images are displayed on the top\n",
        "# row, and the reconstructed images are displayed on the bottom row.\n",
        "# The imshow function from Matplotlib is used to display the images,\n",
        "# and the get_xaxis() and get_yaxis() methods are used to hide the axis\n",
        "# ticks for better visualization.\n",
        "import matplotlib.pyplot as plt\n",
        "\n",
        "plt.figure(figsize=(20, 4))\n",
        "for i in range(5):\n",
        "    # Display original\n",
        "    ax = plt.subplot(2, 5, i + 1)\n",
        "    plt.imshow(x_test[i].reshape(28, 28))\n",
        "    plt.gray()\n",
        "    ax.get_xaxis().set_visible(False)\n",
        "    ax.get_yaxis().set_visible(False)\n",
        "    # Display reconstruction\n",
        "    ax = plt.subplot(2, 5, i + 1 + 5)\n",
        "    plt.imshow(reconstructed_imgs[i].reshape(28, 28))\n",
        "    plt.gray()\n",
        "    ax.get_xaxis().set_visible(False)\n",
        "    ax.get_yaxis().set_visible(False)\n",
        "plt.show()\n"
      ],
      "metadata": {
        "colab": {
          "base_uri": "https://localhost:8080/",
          "height": 809
        },
        "id": "c7ClEs5qiYNA",
        "outputId": "3e3d760c-3a7f-4ebe-fbc9-d88be268637f"
      },
      "execution_count": null,
      "outputs": [
        {
          "output_type": "stream",
          "name": "stdout",
          "text": [
            "Epoch 1/15\n",
            "235/235 [==============================] - 7s 23ms/step - loss: 0.2441 - val_loss: 0.1678\n",
            "Epoch 2/15\n",
            "235/235 [==============================] - 4s 17ms/step - loss: 0.1516 - val_loss: 0.1373\n",
            "Epoch 3/15\n",
            "235/235 [==============================] - 4s 17ms/step - loss: 0.1330 - val_loss: 0.1270\n",
            "Epoch 4/15\n",
            "235/235 [==============================] - 5s 22ms/step - loss: 0.1255 - val_loss: 0.1212\n",
            "Epoch 5/15\n",
            "235/235 [==============================] - 4s 17ms/step - loss: 0.1203 - val_loss: 0.1165\n",
            "Epoch 6/15\n",
            "235/235 [==============================] - 4s 17ms/step - loss: 0.1159 - val_loss: 0.1128\n",
            "Epoch 7/15\n",
            "235/235 [==============================] - 5s 22ms/step - loss: 0.1122 - val_loss: 0.1085\n",
            "Epoch 8/15\n",
            "235/235 [==============================] - 4s 17ms/step - loss: 0.1085 - val_loss: 0.1059\n",
            "Epoch 9/15\n",
            "235/235 [==============================] - 4s 17ms/step - loss: 0.1060 - val_loss: 0.1035\n",
            "Epoch 10/15\n",
            "235/235 [==============================] - 5s 21ms/step - loss: 0.1037 - val_loss: 0.1014\n",
            "Epoch 11/15\n",
            "235/235 [==============================] - 4s 17ms/step - loss: 0.1019 - val_loss: 0.0999\n",
            "Epoch 12/15\n",
            "235/235 [==============================] - 4s 17ms/step - loss: 0.1006 - val_loss: 0.0988\n",
            "Epoch 13/15\n",
            "235/235 [==============================] - 5s 22ms/step - loss: 0.0994 - val_loss: 0.0985\n",
            "Epoch 14/15\n",
            "235/235 [==============================] - 4s 17ms/step - loss: 0.0985 - val_loss: 0.0973\n",
            "Epoch 15/15\n",
            "235/235 [==============================] - 4s 19ms/step - loss: 0.0975 - val_loss: 0.0962\n",
            "313/313 [==============================] - 1s 3ms/step\n"
          ]
        },
        {
          "output_type": "display_data",
          "data": {
            "text/plain": [
              "<Figure size 2000x400 with 10 Axes>"
            ],
            "image/png": "[encoded data removed]"
          },
          "metadata": {}
        }
      ]
    },
    {
      "cell_type": "markdown",
      "source": [
        "# Auto-encoder for CIFAR-10 dataset"
      ],
      "metadata": {
        "id": "vAhLQVn6XIN6"
      }
    },
    {
      "cell_type": "code",
      "source": [
        "from keras.layers import Input, Dense\n",
        "from keras.models import Model\n",
        "from keras.datasets import cifar10\n",
        "import numpy as np\n",
        "import matplotlib.pyplot as plt\n",
        "\n",
        "# Load CIFAR-10 dataset\n",
        "(x_train, _), (x_test, _) = cifar10.load_data()\n",
        "\n",
        "# Normalize the pixel values to [0, 1]\n",
        "x_train = x_train.astype('float32') / 255.\n",
        "x_test = x_test.astype('float32') / 255.\n",
        "\n",
        "# Flatten the images to 3072-dimensional vectors (32x32x3 = 3072)\n",
        "x_train = x_train.reshape((len(x_train), 3072))\n",
        "x_test = x_test.reshape((len(x_test), 3072))\n",
        "\n",
        "# Define the encoder architecture\n",
        "input_img = Input(shape=(3072,))\n",
        "encoded = Dense(512, activation='relu')(input_img)\n",
        "encoded = Dense(256, activation='relu')(encoded)\n",
        "encoded = Dense(128, activation='relu')(encoded)\n",
        "\n",
        "# Define the decoder architecture\n",
        "decoded = Dense(256, activation='relu')(encoded)\n",
        "decoded = Dense(512, activation='relu')(decoded)\n",
        "decoded = Dense(3072, activation='sigmoid')(decoded)\n",
        "\n",
        "# Create the autoencoder model\n",
        "autoencoder = Model(input_img, decoded)\n",
        "\n",
        "# Compile the autoencoder\n",
        "autoencoder.compile(optimizer='adam', loss='binary_crossentropy')\n",
        "\n",
        "# Train the autoencoder\n",
        "autoencoder.fit(x_train, x_train, epochs=15, batch_size=128, validation_data=(x_test, x_test))\n",
        "\n",
        "# Generate the reconstructed images\n",
        "reconstructed_imgs = autoencoder.predict(x_test)\n",
        "\n"
      ],
      "metadata": {
        "colab": {
          "base_uri": "https://localhost:8080/"
        },
        "id": "WVbQO_mVmFjX",
        "outputId": "5d999b38-5485-4aee-d686-50d2443ebf66"
      },
      "execution_count": null,
      "outputs": [
        {
          "output_type": "stream",
          "name": "stdout",
          "text": [
            "Downloading data from https://www.cs.toronto.edu/~kriz/cifar-10-python.tar.gz\n",
            "170498071/170498071 [==============================] - 3s 0us/step\n",
            "Epoch 1/15\n",
            "391/391 [==============================] - 45s 107ms/step - loss: 0.6211 - val_loss: 0.5999\n",
            "Epoch 2/15\n",
            "391/391 [==============================] - 53s 136ms/step - loss: 0.5940 - val_loss: 0.5908\n",
            "Epoch 3/15\n",
            "391/391 [==============================] - 40s 104ms/step - loss: 0.5883 - val_loss: 0.5868\n",
            "Epoch 4/15\n",
            "391/391 [==============================] - 38s 98ms/step - loss: 0.5846 - val_loss: 0.5839\n",
            "Epoch 5/15\n",
            "391/391 [==============================] - 36s 92ms/step - loss: 0.5823 - val_loss: 0.5819\n",
            "Epoch 6/15\n",
            "391/391 [==============================] - 39s 99ms/step - loss: 0.5805 - val_loss: 0.5813\n",
            "Epoch 7/15\n",
            "391/391 [==============================] - 41s 106ms/step - loss: 0.5792 - val_loss: 0.5802\n",
            "Epoch 8/15\n",
            "391/391 [==============================] - 41s 106ms/step - loss: 0.5781 - val_loss: 0.5781\n",
            "Epoch 9/15\n",
            "391/391 [==============================] - 39s 100ms/step - loss: 0.5770 - val_loss: 0.5777\n",
            "Epoch 10/15\n",
            "391/391 [==============================] - 39s 99ms/step - loss: 0.5762 - val_loss: 0.5764\n",
            "Epoch 11/15\n",
            "391/391 [==============================] - 40s 102ms/step - loss: 0.5756 - val_loss: 0.5759\n",
            "Epoch 12/15\n",
            "391/391 [==============================] - 40s 102ms/step - loss: 0.5753 - val_loss: 0.5763\n",
            "Epoch 13/15\n",
            "391/391 [==============================] - 41s 104ms/step - loss: 0.5748 - val_loss: 0.5754\n",
            "Epoch 14/15\n",
            "391/391 [==============================] - 41s 105ms/step - loss: 0.5744 - val_loss: 0.5754\n",
            "Epoch 15/15\n",
            "391/391 [==============================] - 40s 103ms/step - loss: 0.5740 - val_loss: 0.5745\n",
            "313/313 [==============================] - 4s 11ms/step\n"
          ]
        }
      ]
    },
    {
      "cell_type": "code",
      "source": [
        "# Visualize the original and reconstructed images\n",
        "plt.figure(figsize=(20, 4))\n",
        "for i in range(5):\n",
        "    # Display original\n",
        "    ax = plt.subplot(2, 5, i + 1)\n",
        "    plt.imshow(x_test[i].reshape(32, 32, 3))\n",
        "    plt.gray()\n",
        "    ax.get_xaxis().set_visible(False)\n",
        "    ax.get_yaxis().set_visible(False)\n",
        "    ax.set_title('Original')\n",
        "    # Display reconstruction\n",
        "    ax = plt.subplot(2, 5, i + 1 + 5)\n",
        "    plt.imshow(reconstructed_imgs[i].reshape(32, 32, 3))\n",
        "    plt.gray()\n",
        "    ax.get_xaxis().set_visible(False)\n",
        "    ax.get_yaxis().set_visible(False)\n",
        "    ax.set_title('Reconstructed')\n",
        "plt.show()"
      ],
      "metadata": {
        "id": "ZOK3dSziqUJ_"
      },
      "execution_count": null,
      "outputs": []
    },
    {
      "cell_type": "markdown",
      "source": [
        "## Better version"
      ],
      "metadata": {
        "id": "lxy-Fh2Frlf5"
      }
    },
    {
      "cell_type": "code",
      "source": [
        "from keras.layers import Input, Conv2D, MaxPooling2D, UpSampling2D\n",
        "from keras.models import Model\n",
        "from keras.datasets import cifar10\n",
        "import numpy as np\n",
        "import matplotlib.pyplot as plt\n",
        "\n",
        "# Load CIFAR-10 dataset\n",
        "(x_train, _), (x_test, _) = cifar10.load_data()\n",
        "\n",
        "# Normalize the pixel values to [0, 1]\n",
        "x_train = x_train.astype('float32') / 255.\n",
        "x_test = x_test.astype('float32') / 255.\n",
        "\n",
        "# Define the encoder architecture\n",
        "input_img = Input(shape=(32, 32, 3))\n",
        "encoded = Conv2D(32, (3, 3), activation='relu', padding='same')(input_img)\n",
        "encoded = MaxPooling2D((2, 2), padding='same')(encoded)\n",
        "encoded = Conv2D(64, (3, 3), activation='relu', padding='same')(encoded)\n",
        "encoded = MaxPooling2D((2, 2), padding='same')(encoded)\n",
        "encoded = Conv2D(128, (3, 3), activation='relu', padding='same')(encoded)\n",
        "\n",
        "# Define the decoder architecture\n",
        "decoded = Conv2D(64, (3, 3), activation='relu', padding='same')(encoded)\n",
        "decoded = UpSampling2D((2, 2))(decoded)\n",
        "decoded = Conv2D(32, (3, 3), activation='relu', padding='same')(decoded)\n",
        "decoded = UpSampling2D((2, 2))(decoded)\n",
        "decoded = Conv2D(3, (3, 3), activation='sigmoid', padding='same')(decoded)\n",
        "\n",
        "# Create the autoencoder model\n",
        "autoencoder = Model(input_img, decoded)\n",
        "\n",
        "# Compile the autoencoder with Mean Squared Error (MSE) loss\n",
        "autoencoder.compile(optimizer='adam', loss='mean_squared_error')\n",
        "\n",
        "# Reshape the data to 32x32x3 and use the same data for both input and output\n",
        "x_train = x_train.reshape((len(x_train), 32, 32, 3))\n",
        "x_test = x_test.reshape((len(x_test), 32, 32, 3))\n",
        "\n",
        "# Train the autoencoder\n",
        "autoencoder.fit(x_train, x_train, epochs=15, batch_size=128, validation_data=(x_test, x_test))\n",
        "\n",
        "# Generate the reconstructed images\n",
        "reconstructed_imgs = autoencoder.predict(x_test)\n"
      ],
      "metadata": {
        "colab": {
          "base_uri": "https://localhost:8080/"
        },
        "id": "nVb259M4YQLd",
        "outputId": "0bb4acd8-22b9-4074-a589-d809165d9224"
      },
      "execution_count": null,
      "outputs": [
        {
          "output_type": "stream",
          "name": "stdout",
          "text": [
            "Downloading data from https://www.cs.toronto.edu/~kriz/cifar-10-python.tar.gz\n",
            "170498071/170498071 [==============================] - 5s 0us/step\n",
            "Epoch 1/15\n",
            "391/391 [==============================] - 331s 839ms/step - loss: 0.0107 - val_loss: 0.0053\n",
            "Epoch 2/15\n",
            "391/391 [==============================] - 325s 832ms/step - loss: 0.0049 - val_loss: 0.0044\n",
            "Epoch 3/15\n",
            "391/391 [==============================] - 322s 824ms/step - loss: 0.0041 - val_loss: 0.0039\n",
            "Epoch 4/15\n",
            "391/391 [==============================] - 330s 844ms/step - loss: 0.0038 - val_loss: 0.0035\n",
            "Epoch 5/15\n",
            "391/391 [==============================] - 323s 825ms/step - loss: 0.0035 - val_loss: 0.0033\n",
            "Epoch 6/15\n",
            "391/391 [==============================] - 330s 843ms/step - loss: 0.0033 - val_loss: 0.0031\n",
            "Epoch 7/15\n",
            "391/391 [==============================] - 322s 823ms/step - loss: 0.0031 - val_loss: 0.0030\n",
            "Epoch 8/15\n",
            "391/391 [==============================] - 320s 818ms/step - loss: 0.0029 - val_loss: 0.0028\n",
            "Epoch 9/15\n",
            "391/391 [==============================] - 322s 823ms/step - loss: 0.0027 - val_loss: 0.0026\n",
            "Epoch 10/15\n",
            "391/391 [==============================] - 320s 820ms/step - loss: 0.0026 - val_loss: 0.0025\n",
            "Epoch 11/15\n",
            "391/391 [==============================] - 328s 840ms/step - loss: 0.0025 - val_loss: 0.0024\n",
            "Epoch 12/15\n",
            "391/391 [==============================] - 321s 820ms/step - loss: 0.0024 - val_loss: 0.0022\n",
            "Epoch 13/15\n",
            "391/391 [==============================] - 322s 823ms/step - loss: 0.0023 - val_loss: 0.0022\n",
            "Epoch 14/15\n",
            "391/391 [==============================] - 328s 840ms/step - loss: 0.0022 - val_loss: 0.0021\n",
            "Epoch 15/15\n",
            "391/391 [==============================] - 320s 819ms/step - loss: 0.0021 - val_loss: 0.0020\n",
            "313/313 [==============================] - 15s 46ms/step\n"
          ]
        }
      ]
    },
    {
      "cell_type": "code",
      "source": [
        "# Visualize the original and reconstructed images\n",
        "plt.figure(figsize=(20, 4))\n",
        "for i in range(5):\n",
        "    # Display original\n",
        "    ax = plt.subplot(2, 5, i + 1)\n",
        "    plt.imshow(x_test[i].reshape(32, 32, 3))\n",
        "    plt.gray()\n",
        "    ax.get_xaxis().set_visible(False)\n",
        "    ax.get_yaxis().set_visible(False)\n",
        "    ax.set_title('Original')\n",
        "    # Display reconstruction\n",
        "    ax = plt.subplot(2, 5, i + 1 + 5)\n",
        "    plt.imshow(reconstructed_imgs[i].reshape(32, 32, 3))\n",
        "    plt.gray()\n",
        "    ax.get_xaxis().set_visible(False)\n",
        "    ax.get_yaxis().set_visible(False)\n",
        "    ax.set_title('Reconstructed')\n",
        "plt.show()\n"
      ],
      "metadata": {
        "colab": {
          "base_uri": "https://localhost:8080/",
          "height": 360
        },
        "id": "cLXPvvp09ccR",
        "outputId": "0c123401-b550-4c9c-95d8-f576151e6445"
      },
      "execution_count": null,
      "outputs": [
        {
          "output_type": "display_data",
          "data": {
            "text/plain": [
              "<Figure size 2000x400 with 10 Axes>"
            ],
            "image/png": "[encoded data removed]"
          },
          "metadata": {}
        }
      ]
    },
    {
      "cell_type": "markdown",
      "source": [
        "The terms \"validation data\" and \"testing data\" refer to two different datasets used for different purposes during the model development and evaluation process.\n",
        "\n",
        "1. Validation Data:\n",
        "Validation data, also known as the validation set or development set, is a portion of the dataset that is used during the training process to fine-tune the model's hyperparameters and monitor its performance. After each epoch (a single pass through the training data), the model's performance on the validation data is evaluated to determine if it is overfitting or underfitting. The validation data is not used for training the model; it is only used to tune the model's hyperparameters and assess its generalization ability.\n",
        "\n",
        "2. Testing Data:\n",
        "Testing data, also known as the test set, is a separate portion of the dataset that is used to evaluate the final performance of the trained model. The test data is kept completely separate from the training and validation data and is used only once at the end of the model development process. The model is evaluated on the test data to assess how well it generalizes to unseen examples and to provide an unbiased estimate of its performance on new data.\n",
        "\n",
        "The main difference between validation data and testing data lies in their roles during the model development and evaluation process:\n",
        "\n",
        "- Validation data is used during the training process to fine-tune the model's hyperparameters and avoid overfitting. It helps to monitor the model's performance during training and guide the selection of the best model configuration.\n",
        "\n",
        "- Testing data is held out until the end of the model development process and is only used once to provide an unbiased estimate of the model's performance on new, unseen data. It gives an indication of how well the model is likely to perform in real-world scenarios.\n",
        "\n",
        "In summary, validation data is used during model training to fine-tune the model, while testing data is used to assess the final performance and generalization ability of the trained model. Separating the data into training, validation, and testing sets is essential to avoid overfitting and ensure that the model's performance is accurately evaluated."
      ],
      "metadata": {
        "id": "pISPBfZ6HrQN"
      }
    }
  ]
}